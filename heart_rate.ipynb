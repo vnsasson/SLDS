{
 "cells": [
  {
   "cell_type": "markdown",
   "metadata": {},
   "source": [
    "# Heart Rate"
   ]
  },
  {
   "cell_type": "code",
   "execution_count": 4,
   "metadata": {},
   "outputs": [],
   "source": [
    "def hr(start, end, print_ecg, print1, print2):\n",
    "    t = np.arange(START_POINT, END_POINT, 0.002)\n",
    "    t_size = len(t)\n",
    "    ecg = []\n",
    "    with open('samples/268269-2431-MDC_ECG_ELEC_POTL_II-500.csv', 'r') as f: ## reading the ECG file\n",
    "        reader = csv.reader(f)\n",
    "        for row in reader: ## append lines to one line\n",
    "            ecg.append(float(row[1]))\n",
    "        ecg = np.asarray(ecg) # convert ecg from list to an array\n",
    "        ecg = ecg[:t_size] ## taknig the samples in length of t vector\n",
    "        \n",
    "        if print_ecg:\n",
    "            plt.figure(figsize=(18, 2)) \n",
    "            plt.plot(t,ecg)\n",
    "            plt.title('ECG')\n",
    "            plt.xlabel('Time [sec]')\n",
    "            plt.show()\n",
    "\n",
    "\n",
    "    #####  ECG to HR  ######################    \n",
    "\n",
    "\n",
    "    peaks_ind, _ = find_peaks(ecg, height=8300) # treshold for finding peaks is 8300\n",
    "    ecg = np.asarray(ecg) # convert from list to array - now can be used by array functions\n",
    "\n",
    "    peaks_time = peaks_ind*[0.002] # moving from indexes to time domain - f = 500[Hz] by the origin sampling\n",
    "    T = np.diff(peaks_time) # vector of time spaces between every two peaks - vector of T_i\n",
    "    f = 1/T # vector of frequencies - beats per second - f_i = 1 / T_i\n",
    "\n",
    "    HR_Amp = f*60 # heart rate = beats per minute - vector \n",
    "    peaks_time = peaks_time[:-1] # delete the last column - to be in the same length\n",
    "    HR_t = np.linspace(START_POINT, END_POINT, len(HR_Amp) , endpoint=False) \n",
    "\n",
    "    ## resemple\n",
    "\n",
    "    hr_sampled_graph = signal.resample(HR_Amp, F*(END_POINT-START_POINT))\n",
    "    tnew = np.linspace(START_POINT, END_POINT, F*(END_POINT-START_POINT), endpoint=False)\n",
    "    \n",
    "    if print1:\n",
    "        plt.figure(figsize=(18, 2))\n",
    "        plt.plot(HR_t, HR_Amp, 'ro-', tnew, hr_sampled_graph, '.-')\n",
    "        plt.legend(['data', 'resampled'], loc='best')\n",
    "        plt.title('Heart Rate vs resampled [bpm]')\n",
    "        plt.xlabel('Time [sec]')\n",
    "        plt.show()\n",
    "\n",
    "\n",
    "    ##linear interpulation\n",
    "\n",
    "    hr_interp_func = interp1d(peaks_time, HR_Amp)\n",
    "    time = np.linspace(START_POINT + 1, 20 - 1, F * (END_POINT - START_POINT -2*1))\n",
    "\n",
    "    if print2:\n",
    "        plt.figure(figsize=(18, 2))\n",
    "        plt.plot(peaks_time,HR_Amp)\n",
    "        plt.plot(time,hr_interp_func(time))\n",
    "        plt.title('Heart Rate vs linear interpulation')\n",
    "        plt.xlabel('Time [sec]')\n",
    "        plt.ylabel('[bpm]')\n",
    "        plt.legend(['data', 'resampled'], loc='best')\n",
    "        plt.show()\n",
    "        \n",
    "    return time, hr_sampled_graph\n",
    "\n"
   ]
  },
  {
   "cell_type": "code",
   "execution_count": null,
   "metadata": {},
   "outputs": [],
   "source": []
  }
 ],
 "metadata": {
  "kernelspec": {
   "display_name": "Python 3",
   "language": "python",
   "name": "python3"
  },
  "language_info": {
   "codemirror_mode": {
    "name": "ipython",
    "version": 3
   },
   "file_extension": ".py",
   "mimetype": "text/x-python",
   "name": "python",
   "nbconvert_exporter": "python",
   "pygments_lexer": "ipython3",
   "version": "3.7.4"
  }
 },
 "nbformat": 4,
 "nbformat_minor": 2
}
