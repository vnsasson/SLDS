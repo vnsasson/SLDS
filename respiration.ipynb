{
 "cells": [
  {
   "cell_type": "markdown",
   "metadata": {},
   "source": [
    "# Respiration"
   ]
  },
  {
   "cell_type": "code",
   "execution_count": 4,
   "metadata": {},
   "outputs": [],
   "source": [
    "def res(start, end, print_res, print1):   \n",
    "    t = np.arange(START_POINT, 20, 0.016)\n",
    "    size = len(t)\n",
    "    #print(size)\n",
    "    resp = []\n",
    "    with open('samples/268269-2431-MDC_RESP-62.5.csv', 'r') as f:\n",
    "        reader = csv.reader(f)\n",
    "        for row in reader:\n",
    "            resp.append(float(row[1])) # insert data to resp array\n",
    "        resp = resp[:size]\n",
    "        \n",
    "        if print_res:\n",
    "            plt.figure(figsize=(18, 2))\n",
    "            plt.plot(t,resp)\n",
    "            plt.title('Respiration')\n",
    "            plt.xlabel('Time [sec]')\n",
    "            plt.show()\n",
    "\n",
    "    peaks_ind, _ = find_peaks(resp, height=1300)\n",
    "    resp = np.asarray(resp)\n",
    "    peaks_time = peaks_ind*[0.016] # moving from indexes to time domain\n",
    "    T = np.diff(peaks_time) # time space between every two peaks - period time\n",
    "    f = 1/T # frecuency - resp per second\n",
    "    resp_rate = f*60 # respiration rate = respiration per minute\n",
    "    peaks_time = peaks_time[:-1] # delete the last column - to be in the same length \n",
    "\n",
    "    t = np.linspace(START_POINT, END_POINT, len(resp_rate), endpoint=False)\n",
    "    samples = F*(END_POINT-START_POINT)\n",
    "    res_sampled_graph = signal.resample(resp_rate, samples)\n",
    "    tnew = np.linspace(START_POINT, END_POINT, samples,  endpoint=False)\n",
    "\n",
    "    if print1:\n",
    "        plt.figure(figsize=(18, 2))\n",
    "        plt.plot(t,resp_rate,'ro-')\n",
    "        plt.plot(tnew, res_sampled_graph,'.-')\n",
    "        plt.title('Respiration Rate [rpm] vs resampled Respiration Rate [rpm]')\n",
    "        plt.xlabel('Time [sec]')\n",
    "        plt.legend(['data', 'resampled'], loc='best')\n",
    "        plt.show()\n",
    "        \n",
    "    return time, res_sampled_graph"
   ]
  },
  {
   "cell_type": "code",
   "execution_count": null,
   "metadata": {},
   "outputs": [],
   "source": []
  }
 ],
 "metadata": {
  "kernelspec": {
   "display_name": "Python 3",
   "language": "python",
   "name": "python3"
  },
  "language_info": {
   "codemirror_mode": {
    "name": "ipython",
    "version": 3
   },
   "file_extension": ".py",
   "mimetype": "text/x-python",
   "name": "python",
   "nbconvert_exporter": "python",
   "pygments_lexer": "ipython3",
   "version": "3.7.4"
  }
 },
 "nbformat": 4,
 "nbformat_minor": 2
}
