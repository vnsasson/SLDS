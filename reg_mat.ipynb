{
 "cells": [
  {
   "cell_type": "code",
   "execution_count": 45,
   "metadata": {},
   "outputs": [
    {
     "name": "stdout",
     "output_type": "stream",
     "text": [
      "A = \n",
      "[[0.80115748 0.4271676  0.40459125]]\n",
      "(1, 3)\n",
      "\n",
      "X = \n",
      "[[0.53452836 0.57462745 0.02911208]\n",
      " [0.10668117 0.33964829 0.4516096 ]\n",
      " [0.2925497  0.42824458 0.52426137]]\n",
      "(3, 3)\n",
      "\n",
      "Y = \n",
      "[[0.68548212]\n",
      " [0.41327245]\n",
      " [0.62942215]]\n",
      "(3, 1)\n",
      "\n",
      "REG_A = \n",
      "[[0.80115748]\n",
      " [0.4271676 ]\n",
      " [0.40459125]]\n"
     ]
    }
   ],
   "source": [
    "import numpy as np\n",
    "\n",
    "#A = np.matrix([0,2,1])\n",
    "A = np.random.rand(1,3) #    why not working for random matrixes\n",
    "print(\"A = \")\n",
    "print(A)\n",
    "print(A.shape)\n",
    "print()\n",
    "#X = np.matrix( [[1,2,6], [5,10,0], [0,10,10]] )\n",
    "X = np.random.rand(3,3)\n",
    "print(\"X = \")\n",
    "print(X)\n",
    "print(X.shape)\n",
    "print()\n",
    "Y = np.dot(X,A.transpose())\n",
    "print(\"Y = \")\n",
    "print(Y)\n",
    "print(Y.shape)\n",
    "print()\n",
    "reg_A = np.dot(np.linalg.inv(np.dot(X.transpose(),X)),np.dot(X.transpose(),Y))     # formula for LS method\n",
    "print(\"REG_A = \")\n",
    "print(reg_A)"
   ]
  },
  {
   "cell_type": "code",
   "execution_count": 41,
   "metadata": {},
   "outputs": [
    {
     "name": "stdout",
     "output_type": "stream",
     "text": [
      "A = \n",
      "[[0.03144894 0.99636279 0.45253744]]\n",
      "\n",
      "X = \n",
      "[[0.45230497 0.88886099 0.56373229]\n",
      " [0.1963022  0.90292198 0.29904974]\n",
      " [0.47231662 0.21966695 0.22303796]]\n",
      "\n",
      "Y = \n",
      "[[1.1549625 ]\n",
      " [1.04114256]\n",
      " [0.33465486]]\n",
      "(3, 1)\n",
      "\n"
     ]
    }
   ],
   "source": [
    "A = np.random.rand(1,3)\n",
    "print(\"A = \")\n",
    "print(A)\n",
    "print()\n",
    "X = np.random.rand(3,3)\n",
    "print(\"X = \")\n",
    "print(X)\n",
    "print()\n",
    "#Y = X*A.transpose()\n",
    "Y = np.dot(X,A.transpose())\n",
    "print(\"Y = \")\n",
    "print(Y)\n",
    "print(Y.shape)\n",
    "print()"
   ]
  },
  {
   "cell_type": "code",
   "execution_count": null,
   "metadata": {},
   "outputs": [],
   "source": []
  }
 ],
 "metadata": {
  "kernelspec": {
   "display_name": "Python 3",
   "language": "python",
   "name": "python3"
  },
  "language_info": {
   "codemirror_mode": {
    "name": "ipython",
    "version": 3
   },
   "file_extension": ".py",
   "mimetype": "text/x-python",
   "name": "python",
   "nbconvert_exporter": "python",
   "pygments_lexer": "ipython3",
   "version": "3.7.4"
  }
 },
 "nbformat": 4,
 "nbformat_minor": 2
}
