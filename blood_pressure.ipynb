{
 "cells": [
  {
   "cell_type": "markdown",
   "metadata": {},
   "source": [
    "# Blood pressure"
   ]
  },
  {
   "cell_type": "code",
   "execution_count": 3,
   "metadata": {},
   "outputs": [],
   "source": [
    " def bp(start, end, print_bp, print1):   \n",
    "    t = np.arange(START_POINT, END_POINT, 0.008)\n",
    "    t_size = len(t)\n",
    "    #print(size)\n",
    "    bp = []\n",
    "    with open('samples/268269-2431-MDC_PRESS_BLD_ART_ABP-125.csv', 'r') as f:\n",
    "        reader = csv.reader(f)\n",
    "        for row in reader:\n",
    "            bp.append(float(row[1]))\n",
    "        bp = bp[:t_size]\n",
    "        \n",
    "        if print_bp:\n",
    "            plt.figure(figsize=(18, 2))\n",
    "            plt.plot(t,bp)\n",
    "            plt.title('Blood Pressure')\n",
    "            plt.xlabel('Time [sec]')\n",
    "            plt.show()\n",
    "\n",
    "    peaks_ind, _ = find_peaks(bp, height=1600)\n",
    "    bp = np.asarray(bp)\n",
    "\n",
    "    sys_bp_time = peaks_ind*[0.008] # moving from indexes to time domain\n",
    "    sys_bp_Amp = bp[peaks_ind]\n",
    "\n",
    "    sys_bp_time = np.linspace(START_POINT, END_POINT, len(sys_bp_Amp), endpoint=False)\n",
    "\n",
    "    samples = F*(END_POINT-START_POINT)\n",
    "    sys_sampled_graph = signal.resample(sys_bp_Amp, samples) # sampling the systolic graph - 10000 samples - *4 more then the original\n",
    "    t_new = np.linspace(START_POINT, END_POINT, samples)\n",
    "\n",
    "    if print1:\n",
    "        plt.figure(figsize=(18, 2))\n",
    "        plt.plot(sys_bp_time,sys_bp_Amp,'ro-') # sys graph and sys_sampled graph\n",
    "        plt.plot(t_new, sys_sampled_graph,'.-') # sys graph and sys_sampled graph\n",
    "        plt.title('Systolic blood pressure vs resempled')\n",
    "        plt.xlabel('Time [sec]')\n",
    "        plt.legend(['data', 'resampled'], loc='best')\n",
    "        plt.show()\n",
    "        \n",
    "    return time, sys_sampled_graph\n"
   ]
  },
  {
   "cell_type": "code",
   "execution_count": null,
   "metadata": {},
   "outputs": [],
   "source": []
  }
 ],
 "metadata": {
  "kernelspec": {
   "display_name": "Python 3",
   "language": "python",
   "name": "python3"
  },
  "language_info": {
   "codemirror_mode": {
    "name": "ipython",
    "version": 3
   },
   "file_extension": ".py",
   "mimetype": "text/x-python",
   "name": "python",
   "nbconvert_exporter": "python",
   "pygments_lexer": "ipython3",
   "version": "3.7.4"
  }
 },
 "nbformat": 4,
 "nbformat_minor": 2
}
